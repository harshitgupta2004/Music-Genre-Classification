{
 "cells": [
  {
   "cell_type": "code",
   "execution_count": 2,
   "id": "d7b9272f",
   "metadata": {},
   "outputs": [
    {
     "name": "stdout",
     "output_type": "stream",
     "text": [
      "My name is Subham Banerjee\n",
      "I am 21 years old.\n"
     ]
    }
   ],
   "source": [
    "## Question 1\n",
    "name = \"Subham Banerjee\"\n",
    "age = 21\n",
    "\n",
    "print(\"My name is\", name)\n",
    "print(\"I am\", age, \"years old.\")"
   ]
  },
  {
   "cell_type": "code",
   "execution_count": 3,
   "id": "2f4ec7c3",
   "metadata": {},
   "outputs": [
    {
     "name": "stdout",
     "output_type": "stream",
     "text": [
      "['Datascience', 'is', 'used', 'to', 'extract', 'meaningful', 'insights.']\n"
     ]
    }
   ],
   "source": [
    "## Question 2 \n",
    "X = \"Datascience is used to extract meaningful insights.\"\n",
    "splitted_string = X.split()\n",
    "\n",
    "print(splitted_string)"
   ]
  },
  {
   "cell_type": "code",
   "execution_count": 6,
   "id": "9663f051",
   "metadata": {},
   "outputs": [
    {
     "name": "stdout",
     "output_type": "stream",
     "text": [
      "5\n",
      "6\n",
      "5 6\n",
      "30\n"
     ]
    }
   ],
   "source": [
    "# Question 3 \n",
    "def mul(a,b):\n",
    "    print(a*b)\n",
    "\n",
    "a = int(input())\n",
    "b = int(input())\n",
    "print(a,b)\n",
    "mul(a,b)"
   ]
  },
  {
   "cell_type": "code",
   "execution_count": 7,
   "id": "cf61d699",
   "metadata": {},
   "outputs": [
    {
     "name": "stdout",
     "output_type": "stream",
     "text": [
      "Keys:\n",
      "West Bengal\n",
      "Assam\n",
      "Bihar\n",
      "Orissa\n",
      "Punjab\n",
      "Values:\n",
      "Kolkata\n",
      "Dispur\n",
      "Patna\n",
      "Bhubaneswar \n",
      "Chandigarh \n"
     ]
    }
   ],
   "source": [
    "#Question 4 \n",
    "states_capitals = {\n",
    "    \"West Bengal\": \"Kolkata\",\n",
    "    \"Assam\": \"Dispur\",\n",
    "    \"Bihar\": \"Patna\",\n",
    "    \"Orissa\": \"Bhubaneswar \",\n",
    "    \"Punjab\": \"Chandigarh \"\n",
    "}\n",
    "\n",
    "# Print the keys\n",
    "print(\"Keys:\")\n",
    "for state in states_capitals.keys():\n",
    "    print(state)\n",
    "\n",
    "# Print the values\n",
    "print(\"Values:\")\n",
    "for capital in states_capitals.values():\n",
    "    print(capital)\n"
   ]
  },
  {
   "cell_type": "code",
   "execution_count": 9,
   "id": "ba4c2d35",
   "metadata": {},
   "outputs": [],
   "source": [
    " # Question 5 \n",
    "numbers = list(range(1, 1001))\n"
   ]
  },
  {
   "cell_type": "code",
   "execution_count": 10,
   "id": "685384ff",
   "metadata": {},
   "outputs": [
    {
     "name": "stdout",
     "output_type": "stream",
     "text": [
      "[1, 0, 0, 0]\n",
      "[0, 1, 0, 0]\n",
      "[0, 0, 1, 0]\n",
      "[0, 0, 0, 1]\n"
     ]
    }
   ],
   "source": [
    "# Question 6 \n",
    "n = 4  \n",
    "\n",
    "identity_matrix = []\n",
    "\n",
    "for i in range(n):\n",
    "    row = []\n",
    "    for j in range(n):\n",
    "        if i == j:\n",
    "            row.append(1)\n",
    "        else:\n",
    "            row.append(0)\n",
    "    identity_matrix.append(row)\n",
    "\n",
    "for row in identity_matrix:\n",
    "    print(row)\n"
   ]
  },
  {
   "cell_type": "code",
   "execution_count": 11,
   "id": "8eac84af",
   "metadata": {},
   "outputs": [
    {
     "name": "stdout",
     "output_type": "stream",
     "text": [
      "[1, 2, 3]\n",
      "[4, 5, 6]\n",
      "[7, 8, 9]\n"
     ]
    }
   ],
   "source": [
    "# Question 7 \n",
    "matrix = []\n",
    "value = 1\n",
    "\n",
    "# Populate the matrix with values ranging from 1 to 9\n",
    "for i in range(3):\n",
    "    row = []\n",
    "    for j in range(3):\n",
    "        row.append(value)\n",
    "        value += 1\n",
    "    matrix.append(row)\n",
    "\n",
    "# Print the matrix\n",
    "for row in matrix:\n",
    "    print(row)\n"
   ]
  },
  {
   "cell_type": "code",
   "execution_count": 13,
   "id": "e65b6bec",
   "metadata": {},
   "outputs": [
    {
     "name": "stdout",
     "output_type": "stream",
     "text": [
      "[[11 13 15]\n",
      " [17 19 21]\n",
      " [23 25 27]]\n"
     ]
    }
   ],
   "source": [
    "#Question 8 \n",
    "import numpy as np\n",
    "\n",
    "array1 = np.array([[1, 2, 3], [4, 5, 6], [7, 8, 9]])\n",
    "array2 = np.array([[10, 11, 12], [13, 14, 15], [16, 17, 18]])\n",
    "\n",
    "# Perform element-wise addition\n",
    "result = array1 + array2\n",
    "\n",
    "# Print the result\n",
    "print(result)\n",
    "\n"
   ]
  },
  {
   "cell_type": "code",
   "execution_count": 14,
   "id": "5c856535",
   "metadata": {},
   "outputs": [
    {
     "name": "stdout",
     "output_type": "stream",
     "text": [
      "2023-02-01\n",
      "2023-02-02\n",
      "2023-02-03\n",
      "2023-02-04\n",
      "2023-02-05\n",
      "2023-02-06\n",
      "2023-02-07\n",
      "2023-02-08\n",
      "2023-02-09\n",
      "2023-02-10\n",
      "2023-02-11\n",
      "2023-02-12\n",
      "2023-02-13\n",
      "2023-02-14\n",
      "2023-02-15\n",
      "2023-02-16\n",
      "2023-02-17\n",
      "2023-02-18\n",
      "2023-02-19\n",
      "2023-02-20\n",
      "2023-02-21\n",
      "2023-02-22\n",
      "2023-02-23\n",
      "2023-02-24\n",
      "2023-02-25\n",
      "2023-02-26\n",
      "2023-02-27\n",
      "2023-02-28\n",
      "2023-03-01\n"
     ]
    }
   ],
   "source": [
    "#Question 9\n",
    "\n",
    "from datetime import datetime, timedelta\n",
    "\n",
    "start_date = datetime(2023, 2, 1)\n",
    "end_date = datetime(2023, 3, 1)\n",
    "\n",
    "current_date = start_date\n",
    "while current_date <= end_date:\n",
    "    print(current_date.strftime(\"%Y-%m-%d\"))\n",
    "    current_date += timedelta(days=1)\n"
   ]
  },
  {
   "cell_type": "code",
   "execution_count": 15,
   "id": "17d08989",
   "metadata": {},
   "outputs": [
    {
     "name": "stdout",
     "output_type": "stream",
     "text": [
      "     Brand  Sales\n",
      "0   Maruti    250\n",
      "1  Renault    200\n",
      "2  Hyundai    240\n"
     ]
    }
   ],
   "source": [
    "# Question 10 \n",
    "import pandas as pd\n",
    "\n",
    "dictionary = {'Brand': ['Maruti', 'Renault', 'Hyundai'], 'Sales': [250, 200, 240]}\n",
    "\n",
    "df = pd.DataFrame(dictionary)\n",
    "\n",
    "print(df)\n"
   ]
  },
  {
   "cell_type": "code",
   "execution_count": null,
   "id": "4babf5dd",
   "metadata": {},
   "outputs": [],
   "source": []
  }
 ],
 "metadata": {
  "kernelspec": {
   "display_name": "Python 3",
   "language": "python",
   "name": "python3"
  },
  "language_info": {
   "codemirror_mode": {
    "name": "ipython",
    "version": 3
   },
   "file_extension": ".py",
   "mimetype": "text/x-python",
   "name": "python",
   "nbconvert_exporter": "python",
   "pygments_lexer": "ipython3",
   "version": "3.8.8"
  }
 },
 "nbformat": 4,
 "nbformat_minor": 5
}
